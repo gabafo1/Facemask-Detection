{
 "cells": [
  {
   "cell_type": "code",
   "execution_count": 1,
   "id": "eeaa4f9e",
   "metadata": {},
   "outputs": [],
   "source": [
    "import os\n",
    "import numpy as np\n",
    "import cv2\n",
    "import gc"
   ]
  },
  {
   "cell_type": "code",
   "execution_count": 2,
   "id": "d4acfd44",
   "metadata": {},
   "outputs": [],
   "source": [
    "data = np.load('./data/data_preprocess.npz')\n"
   ]
  },
  {
   "cell_type": "code",
   "execution_count": 3,
   "id": "0cc35508",
   "metadata": {},
   "outputs": [],
   "source": [
    "X = data['arr_0']\n",
    "y = data['arr_1']"
   ]
  },
  {
   "cell_type": "code",
   "execution_count": 4,
   "id": "d51c00ec",
   "metadata": {},
   "outputs": [
    {
     "data": {
      "text/plain": [
       "((9959, 100, 100, 3), (9959,))"
      ]
     },
     "execution_count": 4,
     "metadata": {},
     "output_type": "execute_result"
    }
   ],
   "source": [
    "X.shape, y.shape"
   ]
  },
  {
   "cell_type": "code",
   "execution_count": 5,
   "id": "00bb32b9",
   "metadata": {},
   "outputs": [],
   "source": [
    "from sklearn.preprocessing import OneHotEncoder"
   ]
  },
  {
   "cell_type": "code",
   "execution_count": 6,
   "id": "2f0667bd",
   "metadata": {},
   "outputs": [],
   "source": [
    "onehot = OneHotEncoder()\n",
    "y_onehot = onehot.fit_transform(y.reshape(-1,1))"
   ]
  },
  {
   "cell_type": "code",
   "execution_count": 7,
   "id": "1039d694",
   "metadata": {},
   "outputs": [],
   "source": [
    "y_array = y_onehot.toarray()"
   ]
  },
  {
   "cell_type": "code",
   "execution_count": 8,
   "id": "df10addb",
   "metadata": {},
   "outputs": [
    {
     "data": {
      "text/plain": [
       "array([[1., 0., 0., 0.],\n",
       "       [1., 0., 0., 0.],\n",
       "       [1., 0., 0., 0.],\n",
       "       ...,\n",
       "       [0., 0., 0., 1.],\n",
       "       [0., 0., 0., 1.],\n",
       "       [0., 0., 0., 1.]])"
      ]
     },
     "execution_count": 8,
     "metadata": {},
     "output_type": "execute_result"
    }
   ],
   "source": [
    "y_array "
   ]
  },
  {
   "cell_type": "code",
   "execution_count": 9,
   "id": "8ee56990",
   "metadata": {},
   "outputs": [],
   "source": [
    "from sklearn.model_selection import train_test_split"
   ]
  },
  {
   "cell_type": "code",
   "execution_count": 10,
   "id": "fd7dbbc5",
   "metadata": {},
   "outputs": [],
   "source": [
    "x_train,x_test,y_train,y_test=train_test_split(X,y_array,test_size=0.2,random_state=42)"
   ]
  },
  {
   "cell_type": "code",
   "execution_count": 11,
   "id": "2308f04e",
   "metadata": {},
   "outputs": [
    {
     "data": {
      "text/plain": [
       "((7967, 100, 100, 3), (1992, 100, 100, 3), (7967, 4), (1992, 4))"
      ]
     },
     "execution_count": 11,
     "metadata": {},
     "output_type": "execute_result"
    }
   ],
   "source": [
    "x_train.shape,x_test.shape,y_train.shape,y_test.shape"
   ]
  },
  {
   "cell_type": "code",
   "execution_count": 12,
   "id": "70f5814e",
   "metadata": {},
   "outputs": [],
   "source": [
    "import tensorflow as tf\n",
    "from tensorflow.keras import layers\n",
    "from tensorflow.keras import Sequential"
   ]
  },
  {
   "cell_type": "code",
   "execution_count": 13,
   "id": "cea65c88",
   "metadata": {},
   "outputs": [],
   "source": [
    "model = Sequential([\n",
    "    layers.Conv2D(16,3,padding='same',input_shape=(100,100,3), activation='relu'),\n",
    "    layers.MaxPool2D(),\n",
    "    layers.Conv2D(32,3,padding='same', activation='relu'),\n",
    "    layers.MaxPool2D(),\n",
    "    layers.Conv2D(64,3,padding='same', activation='relu'),\n",
    "    layers.MaxPool2D(),\n",
    "    layers.Flatten(),\n",
    "    layers.Dense(192, activation='relu'),\n",
    "    layers.Dense(28, activation='relu'),\n",
    "    layers.Dense(4, activation='sigmoid')\n",
    "])\n",
    "\n",
    "model.compile(optimizer=tf.keras.optimizers.Adam(learning_rate=0.001),loss=tf.keras.losses.categorical_crossentropy,metrics=['accuracy'])"
   ]
  },
  {
   "cell_type": "code",
   "execution_count": 14,
   "id": "dd56a19e",
   "metadata": {},
   "outputs": [
    {
     "name": "stdout",
     "output_type": "stream",
     "text": [
      "Model: \"sequential\"\n",
      "_________________________________________________________________\n",
      " Layer (type)                Output Shape              Param #   \n",
      "=================================================================\n",
      " conv2d (Conv2D)             (None, 100, 100, 16)      448       \n",
      "                                                                 \n",
      " max_pooling2d (MaxPooling2D  (None, 50, 50, 16)       0         \n",
      " )                                                               \n",
      "                                                                 \n",
      " conv2d_1 (Conv2D)           (None, 50, 50, 32)        4640      \n",
      "                                                                 \n",
      " max_pooling2d_1 (MaxPooling  (None, 25, 25, 32)       0         \n",
      " 2D)                                                             \n",
      "                                                                 \n",
      " conv2d_2 (Conv2D)           (None, 25, 25, 64)        18496     \n",
      "                                                                 \n",
      " max_pooling2d_2 (MaxPooling  (None, 12, 12, 64)       0         \n",
      " 2D)                                                             \n",
      "                                                                 \n",
      " flatten (Flatten)           (None, 9216)              0         \n",
      "                                                                 \n",
      " dense (Dense)               (None, 192)               1769664   \n",
      "                                                                 \n",
      " dense_1 (Dense)             (None, 28)                5404      \n",
      "                                                                 \n",
      " dense_2 (Dense)             (None, 4)                 116       \n",
      "                                                                 \n",
      "=================================================================\n",
      "Total params: 1,798,768\n",
      "Trainable params: 1,798,768\n",
      "Non-trainable params: 0\n",
      "_________________________________________________________________\n"
     ]
    }
   ],
   "source": [
    "model.summary()"
   ]
  },
  {
   "cell_type": "code",
   "execution_count": 15,
   "id": "55602a9f",
   "metadata": {},
   "outputs": [
    {
     "name": "stdout",
     "output_type": "stream",
     "text": [
      "Epoch 1/10\n",
      "266/266 [==============================] - 81s 285ms/step - loss: 0.2128 - accuracy: 0.9247 - val_loss: 0.0885 - val_accuracy: 0.9694\n",
      "Epoch 2/10\n",
      "266/266 [==============================] - 77s 289ms/step - loss: 0.0727 - accuracy: 0.9767 - val_loss: 0.0885 - val_accuracy: 0.9734\n",
      "Epoch 3/10\n",
      "266/266 [==============================] - 76s 286ms/step - loss: 0.0415 - accuracy: 0.9854 - val_loss: 0.1012 - val_accuracy: 0.9734\n",
      "Epoch 4/10\n",
      "266/266 [==============================] - 77s 289ms/step - loss: 0.0316 - accuracy: 0.9893 - val_loss: 0.0558 - val_accuracy: 0.9844\n",
      "Epoch 5/10\n",
      "266/266 [==============================] - 77s 289ms/step - loss: 0.0212 - accuracy: 0.9931 - val_loss: 0.0807 - val_accuracy: 0.9799\n",
      "Epoch 6/10\n",
      "266/266 [==============================] - 82s 308ms/step - loss: 0.0214 - accuracy: 0.9921 - val_loss: 0.0552 - val_accuracy: 0.9864\n",
      "Epoch 7/10\n",
      "266/266 [==============================] - 81s 303ms/step - loss: 0.0107 - accuracy: 0.9965 - val_loss: 0.0606 - val_accuracy: 0.9844\n",
      "Epoch 8/10\n",
      "266/266 [==============================] - 78s 293ms/step - loss: 0.0026 - accuracy: 0.9990 - val_loss: 0.0596 - val_accuracy: 0.9849\n",
      "Epoch 9/10\n",
      "266/266 [==============================] - 78s 293ms/step - loss: 0.0021 - accuracy: 0.9997 - val_loss: 0.0619 - val_accuracy: 0.9895\n",
      "Epoch 10/10\n",
      "266/266 [==============================] - 79s 295ms/step - loss: 3.2120e-04 - accuracy: 0.9999 - val_loss: 0.0635 - val_accuracy: 0.9890\n"
     ]
    }
   ],
   "source": [
    "history=model.fit(x=x_train,y=y_train,validation_data=(x_test,y_test),batch_size=30,epochs=10)"
   ]
  },
  {
   "cell_type": "code",
   "execution_count": 16,
   "id": "efb70f2a",
   "metadata": {},
   "outputs": [
    {
     "name": "stderr",
     "output_type": "stream",
     "text": [
      "Matplotlib is building the font cache; this may take a moment.\n"
     ]
    }
   ],
   "source": [
    "import pandas as pd\n",
    "import matplotlib.pyplot as plt"
   ]
  },
  {
   "cell_type": "code",
   "execution_count": 17,
   "id": "3d06ae7c",
   "metadata": {},
   "outputs": [],
   "source": [
    "history_df = pd.DataFrame(history.history)"
   ]
  },
  {
   "cell_type": "code",
   "execution_count": 18,
   "id": "db096cc0",
   "metadata": {},
   "outputs": [
    {
     "data": {
      "text/html": [
       "<div>\n",
       "<style scoped>\n",
       "    .dataframe tbody tr th:only-of-type {\n",
       "        vertical-align: middle;\n",
       "    }\n",
       "\n",
       "    .dataframe tbody tr th {\n",
       "        vertical-align: top;\n",
       "    }\n",
       "\n",
       "    .dataframe thead th {\n",
       "        text-align: right;\n",
       "    }\n",
       "</style>\n",
       "<table border=\"1\" class=\"dataframe\">\n",
       "  <thead>\n",
       "    <tr style=\"text-align: right;\">\n",
       "      <th></th>\n",
       "      <th>loss</th>\n",
       "      <th>accuracy</th>\n",
       "      <th>val_loss</th>\n",
       "      <th>val_accuracy</th>\n",
       "    </tr>\n",
       "  </thead>\n",
       "  <tbody>\n",
       "    <tr>\n",
       "      <th>0</th>\n",
       "      <td>0.212810</td>\n",
       "      <td>0.924689</td>\n",
       "      <td>0.088512</td>\n",
       "      <td>0.969378</td>\n",
       "    </tr>\n",
       "    <tr>\n",
       "      <th>1</th>\n",
       "      <td>0.072663</td>\n",
       "      <td>0.976654</td>\n",
       "      <td>0.088519</td>\n",
       "      <td>0.973394</td>\n",
       "    </tr>\n",
       "    <tr>\n",
       "      <th>2</th>\n",
       "      <td>0.041523</td>\n",
       "      <td>0.985440</td>\n",
       "      <td>0.101182</td>\n",
       "      <td>0.973394</td>\n",
       "    </tr>\n",
       "    <tr>\n",
       "      <th>3</th>\n",
       "      <td>0.031606</td>\n",
       "      <td>0.989331</td>\n",
       "      <td>0.055824</td>\n",
       "      <td>0.984438</td>\n",
       "    </tr>\n",
       "    <tr>\n",
       "      <th>4</th>\n",
       "      <td>0.021167</td>\n",
       "      <td>0.993097</td>\n",
       "      <td>0.080734</td>\n",
       "      <td>0.979920</td>\n",
       "    </tr>\n",
       "    <tr>\n",
       "      <th>5</th>\n",
       "      <td>0.021428</td>\n",
       "      <td>0.992092</td>\n",
       "      <td>0.055169</td>\n",
       "      <td>0.986446</td>\n",
       "    </tr>\n",
       "    <tr>\n",
       "      <th>6</th>\n",
       "      <td>0.010682</td>\n",
       "      <td>0.996486</td>\n",
       "      <td>0.060584</td>\n",
       "      <td>0.984438</td>\n",
       "    </tr>\n",
       "    <tr>\n",
       "      <th>7</th>\n",
       "      <td>0.002604</td>\n",
       "      <td>0.998996</td>\n",
       "      <td>0.059618</td>\n",
       "      <td>0.984940</td>\n",
       "    </tr>\n",
       "    <tr>\n",
       "      <th>8</th>\n",
       "      <td>0.002081</td>\n",
       "      <td>0.999749</td>\n",
       "      <td>0.061869</td>\n",
       "      <td>0.989458</td>\n",
       "    </tr>\n",
       "    <tr>\n",
       "      <th>9</th>\n",
       "      <td>0.000321</td>\n",
       "      <td>0.999874</td>\n",
       "      <td>0.063498</td>\n",
       "      <td>0.988956</td>\n",
       "    </tr>\n",
       "  </tbody>\n",
       "</table>\n",
       "</div>"
      ],
      "text/plain": [
       "       loss  accuracy  val_loss  val_accuracy\n",
       "0  0.212810  0.924689  0.088512      0.969378\n",
       "1  0.072663  0.976654  0.088519      0.973394\n",
       "2  0.041523  0.985440  0.101182      0.973394\n",
       "3  0.031606  0.989331  0.055824      0.984438\n",
       "4  0.021167  0.993097  0.080734      0.979920\n",
       "5  0.021428  0.992092  0.055169      0.986446\n",
       "6  0.010682  0.996486  0.060584      0.984438\n",
       "7  0.002604  0.998996  0.059618      0.984940\n",
       "8  0.002081  0.999749  0.061869      0.989458\n",
       "9  0.000321  0.999874  0.063498      0.988956"
      ]
     },
     "execution_count": 18,
     "metadata": {},
     "output_type": "execute_result"
    }
   ],
   "source": [
    "history_df "
   ]
  },
  {
   "cell_type": "code",
   "execution_count": 19,
   "id": "c3790f04",
   "metadata": {},
   "outputs": [
    {
     "data": {
      "image/png": "[encoded data removed]",
      "text/plain": [
       "<Figure size 432x288 with 1 Axes>"
      ]
     },
     "metadata": {
      "needs_background": "light"
     },
     "output_type": "display_data"
    }
   ],
   "source": [
    "history_df[['loss','val_loss']].plot(kind='line')\n",
    "plt.xlabel('Epochs')\n",
    "plt.ylabel('loss')\n",
    "plt.xticks(list(range(10)),list(range(1,11)))\n",
    "plt.show()"
   ]
  },
  {
   "cell_type": "code",
   "execution_count": 20,
   "id": "3ae29b08",
   "metadata": {},
   "outputs": [
    {
     "data": {
      "image/png": "[encoded data removed]",
      "text/plain": [
       "<Figure size 432x288 with 1 Axes>"
      ]
     },
     "metadata": {
      "needs_background": "light"
     },
     "output_type": "display_data"
    }
   ],
   "source": [
    "history_df[['accuracy','val_accuracy']].plot(kind='line')\n",
    "plt.xlabel('Epochs')\n",
    "plt.ylabel('Accuracy')\n",
    "plt.xticks(list(range(10)),list(range(1,11)))\n",
    "plt.show()"
   ]
  },
  {
   "cell_type": "code",
   "execution_count": 23,
   "id": "372bb617",
   "metadata": {},
   "outputs": [
    {
     "name": "stderr",
     "output_type": "stream",
     "text": [
      "WARNING:absl:Found untraced functions such as _jit_compiled_convolution_op, _jit_compiled_convolution_op, _jit_compiled_convolution_op while saving (showing 3 of 3). These functions will not be directly callable after loading.\n"
     ]
    },
    {
     "name": "stdout",
     "output_type": "stream",
     "text": [
      "INFO:tensorflow:Assets written to: face_cnn_model\\assets\n"
     ]
    },
    {
     "name": "stderr",
     "output_type": "stream",
     "text": [
      "INFO:tensorflow:Assets written to: face_cnn_model\\assets\n"
     ]
    }
   ],
   "source": [
    "model.save('face_cnn_model')"
   ]
  },
  {
   "cell_type": "code",
   "execution_count": 24,
   "id": "6a9aa28e",
   "metadata": {},
   "outputs": [
    {
     "data": {
      "text/plain": [
       "[array(['Mask', 'Mask_Chin', 'Mask_Mouth_Chin', 'Mask_Nose_Mouth'],\n",
       "       dtype='<U15')]"
      ]
     },
     "execution_count": 24,
     "metadata": {},
     "output_type": "execute_result"
    }
   ],
   "source": [
    "onehot.categories_"
   ]
  },
  {
   "cell_type": "code",
   "execution_count": null,
   "id": "cb101340",
   "metadata": {},
   "outputs": [],
   "source": []
  }
 ],
 "metadata": {
  "kernelspec": {
   "display_name": "Python 3 (ipykernel)",
   "language": "python",
   "name": "python3"
  },
  "language_info": {
   "codemirror_mode": {
    "name": "ipython",
    "version": 3
   },
   "file_extension": ".py",
   "mimetype": "text/x-python",
   "name": "python",
   "nbconvert_exporter": "python",
   "pygments_lexer": "ipython3",
   "version": "3.10.6"
  }
 },
 "nbformat": 4,
 "nbformat_minor": 5
}
